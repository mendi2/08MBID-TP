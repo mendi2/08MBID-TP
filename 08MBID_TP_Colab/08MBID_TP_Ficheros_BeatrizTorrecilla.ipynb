{
  "nbformat": 4,
  "nbformat_minor": 0,
  "metadata": {
    "colab": {
      "provenance": [],
      "collapsed_sections": [
        "1-GJISV37Uhy",
        "PeGh6U_t7Nuw"
      ]
    },
    "kernelspec": {
      "name": "python3",
      "display_name": "Python 3"
    },
    "language_info": {
      "name": "python"
    }
  },
  "cells": [
    {
      "cell_type": "markdown",
      "source": [
        "# **08MBID Visualización de Datos - Trabajo práctico**\n",
        "\n",
        "### **Alumna:** Beatriz Torrecilla ###\n",
        "### **Fecha:** 02/07/2023###"
      ],
      "metadata": {
        "id": "FiMY64r2qftH"
      }
    },
    {
      "cell_type": "code",
      "source": [
        "# import packages\n",
        "import pandas as pd\n",
        "import numpy as np\n",
        "import io\n",
        "\n",
        "from google.colab import files\n",
        "\n",
        "pd.options.mode.chained_assignment = None\n",
        "\n",
        "def download_file(file_name, predictions):\n",
        "  with open(file_name, 'w') as f:\n",
        "    predictions.to_csv(f, index = False)\n",
        "  files.download(file_name)\n",
        "  print(\"Downloaded \" + file_name)"
      ],
      "metadata": {
        "id": "e11RYyiDDJnl"
      },
      "execution_count": null,
      "outputs": []
    },
    {
      "cell_type": "markdown",
      "source": [
        "###Importar ficheros"
      ],
      "metadata": {
        "id": "0xm5Kc_r7YC-"
      }
    },
    {
      "cell_type": "code",
      "metadata": {
        "id": "QMbq7LOCxRPt"
      },
      "source": [
        "columns = ['gbifID','datasetKey','occurrenceID','kingdom','phylum','class',\n",
        "           'order','family','genus','species','infraspecificEpithet','taxonRank',\n",
        "           'scientificName','verbatimScientificName','verbatimScientificNameAuthorship',\n",
        "           'countryCode','locality','stateProvince','occurrenceStatus','individualCount',\n",
        "           'publishingOrgKey','decimalLatitude','decimalLongitude',\n",
        "           'coordinateUncertaintyInMeters','coordinatePrecision','elevation',\n",
        "           'elevationAccuracy','depth','depthAccuracy','eventDate','day','month',\n",
        "           'year','taxonKey','speciesKey','basisOfRecord','institutionCode',\n",
        "           'collectionCode','catalogNumber','recordNumber','identifiedBy',\n",
        "           'dateIdentified','license','rightsHolder','recordedBy','typeStatus',\n",
        "           'establishmentMeans','lastInterpreted','mediaType','issue']"
      ],
      "execution_count": null,
      "outputs": []
    },
    {
      "cell_type": "code",
      "source": [
        "df_gorrion = pd.read_csv('gorrion.txt', usecols=columns, sep='\\t',header=0)\n",
        "df_gorrion = df_gorrion.fillna({'individualCount': 0})"
      ],
      "metadata": {
        "id": "skjgFFU5qmt6"
      },
      "execution_count": null,
      "outputs": []
    },
    {
      "cell_type": "code",
      "source": [
        "df_grulla = pd.read_csv('grulla.txt', usecols=columns, sep='\\t',header=0)\n",
        "df_grulla = df_grulla.fillna({'individualCount': 0})"
      ],
      "metadata": {
        "id": "ocja_6hZqpGz"
      },
      "execution_count": null,
      "outputs": []
    },
    {
      "cell_type": "code",
      "source": [
        "df_tortola = pd.read_csv('tortola.txt', usecols=columns, sep='\\t',header=0)\n",
        "df_tortola = df_tortola.fillna({'individualCount': 0})"
      ],
      "metadata": {
        "id": "Af9joSRgsIfn"
      },
      "execution_count": null,
      "outputs": []
    },
    {
      "cell_type": "markdown",
      "source": [
        "###Filtrar observaciones 2017"
      ],
      "metadata": {
        "id": "1-GJISV37Uhy"
      }
    },
    {
      "cell_type": "code",
      "source": [
        "df_grulla = df_grulla[df_grulla[\"year\"] == 2017]\n",
        "df_grulla['year'].unique()"
      ],
      "metadata": {
        "colab": {
          "base_uri": "https://localhost:8080/"
        },
        "id": "z2DCXZ7Kp7LE",
        "outputId": "a4f4fc8f-8515-4867-acde-f30c54995c51"
      },
      "execution_count": null,
      "outputs": [
        {
          "output_type": "execute_result",
          "data": {
            "text/plain": [
              "array([2017])"
            ]
          },
          "metadata": {},
          "execution_count": 6
        }
      ]
    },
    {
      "cell_type": "code",
      "source": [
        "df_tortola = df_tortola[df_tortola[\"year\"] == 2017]\n",
        "df_tortola['year'].unique()"
      ],
      "metadata": {
        "colab": {
          "base_uri": "https://localhost:8080/"
        },
        "id": "9l5NtC13sT4D",
        "outputId": "31b20e87-db21-4731-bda1-10e853fa96b4"
      },
      "execution_count": null,
      "outputs": [
        {
          "output_type": "execute_result",
          "data": {
            "text/plain": [
              "array([2017])"
            ]
          },
          "metadata": {},
          "execution_count": 7
        }
      ]
    },
    {
      "cell_type": "markdown",
      "source": [
        "###Convertir a tipo fecha"
      ],
      "metadata": {
        "id": "PeGh6U_t7Nuw"
      }
    },
    {
      "cell_type": "code",
      "source": [
        "df_tortola['fecha'] = pd.to_datetime(df_tortola['eventDate'],errors ='coerce')"
      ],
      "metadata": {
        "id": "CEFlVu9vjH1X"
      },
      "execution_count": null,
      "outputs": []
    },
    {
      "cell_type": "code",
      "source": [
        "df_gorrion['fecha'] = pd.to_datetime(df_gorrion['eventDate'],errors ='coerce')"
      ],
      "metadata": {
        "id": "f2HI9ZnzjPkG"
      },
      "execution_count": null,
      "outputs": []
    },
    {
      "cell_type": "code",
      "source": [
        "df_grulla['fecha'] = pd.to_datetime(df_grulla['eventDate'],errors ='coerce')"
      ],
      "metadata": {
        "id": "aBKANhsFmAta"
      },
      "execution_count": null,
      "outputs": []
    },
    {
      "cell_type": "markdown",
      "source": [
        "###Datasets con Latitud"
      ],
      "metadata": {
        "id": "ou9frFVx89ZK"
      }
    },
    {
      "cell_type": "code",
      "source": [
        "df_gorrion_lat = df_gorrion[['species','stateProvince','locality','fecha','month','decimalLatitude','decimalLongitude','individualCount']]"
      ],
      "metadata": {
        "id": "9xUX8LjFjUV3"
      },
      "execution_count": null,
      "outputs": []
    },
    {
      "cell_type": "code",
      "source": [
        "df_grulla_lat = df_grulla[['species','stateProvince','locality','fecha','month','decimalLatitude','decimalLongitude','individualCount']]\n"
      ],
      "metadata": {
        "id": "Xyg8BdYwjUBJ"
      },
      "execution_count": null,
      "outputs": []
    },
    {
      "cell_type": "code",
      "source": [
        "df_tortola_lat = df_tortola[['species','stateProvince','locality','fecha','month','decimalLatitude','decimalLongitude','individualCount']]"
      ],
      "metadata": {
        "id": "2lBxVqNI-Y7e"
      },
      "execution_count": null,
      "outputs": []
    },
    {
      "cell_type": "code",
      "source": [
        "download_file('gorrion_coord.csv', df_gorrion_lat)\n",
        "download_file('tortola_coord.csv', df_tortola_lat)\n",
        "download_file('grulla_coord.csv', df_grulla_lat)"
      ],
      "metadata": {
        "id": "4c93_eK49VjX",
        "colab": {
          "base_uri": "https://localhost:8080/",
          "height": 69
        },
        "outputId": "e34adddf-09f2-4db0-ad01-3bc53bc814c8"
      },
      "execution_count": null,
      "outputs": [
        {
          "output_type": "display_data",
          "data": {
            "text/plain": [
              "<IPython.core.display.Javascript object>"
            ],
            "application/javascript": [
              "\n",
              "    async function download(id, filename, size) {\n",
              "      if (!google.colab.kernel.accessAllowed) {\n",
              "        return;\n",
              "      }\n",
              "      const div = document.createElement('div');\n",
              "      const label = document.createElement('label');\n",
              "      label.textContent = `Downloading \"${filename}\": `;\n",
              "      div.appendChild(label);\n",
              "      const progress = document.createElement('progress');\n",
              "      progress.max = size;\n",
              "      div.appendChild(progress);\n",
              "      document.body.appendChild(div);\n",
              "\n",
              "      const buffers = [];\n",
              "      let downloaded = 0;\n",
              "\n",
              "      const channel = await google.colab.kernel.comms.open(id);\n",
              "      // Send a message to notify the kernel that we're ready.\n",
              "      channel.send({})\n",
              "\n",
              "      for await (const message of channel.messages) {\n",
              "        // Send a message to notify the kernel that we're ready.\n",
              "        channel.send({})\n",
              "        if (message.buffers) {\n",
              "          for (const buffer of message.buffers) {\n",
              "            buffers.push(buffer);\n",
              "            downloaded += buffer.byteLength;\n",
              "            progress.value = downloaded;\n",
              "          }\n",
              "        }\n",
              "      }\n",
              "      const blob = new Blob(buffers, {type: 'application/binary'});\n",
              "      const a = document.createElement('a');\n",
              "      a.href = window.URL.createObjectURL(blob);\n",
              "      a.download = filename;\n",
              "      div.appendChild(a);\n",
              "      a.click();\n",
              "      div.remove();\n",
              "    }\n",
              "  "
            ]
          },
          "metadata": {}
        },
        {
          "output_type": "display_data",
          "data": {
            "text/plain": [
              "<IPython.core.display.Javascript object>"
            ],
            "application/javascript": [
              "download(\"download_b1f2bf91-b4a9-4380-a633-6bf6c1689157\", \"gorrion_coord.csv\", 3271124)"
            ]
          },
          "metadata": {}
        },
        {
          "output_type": "stream",
          "name": "stdout",
          "text": [
            "Downloaded gorrion_coord.csv\n"
          ]
        },
        {
          "output_type": "display_data",
          "data": {
            "text/plain": [
              "<IPython.core.display.Javascript object>"
            ],
            "application/javascript": [
              "\n",
              "    async function download(id, filename, size) {\n",
              "      if (!google.colab.kernel.accessAllowed) {\n",
              "        return;\n",
              "      }\n",
              "      const div = document.createElement('div');\n",
              "      const label = document.createElement('label');\n",
              "      label.textContent = `Downloading \"${filename}\": `;\n",
              "      div.appendChild(label);\n",
              "      const progress = document.createElement('progress');\n",
              "      progress.max = size;\n",
              "      div.appendChild(progress);\n",
              "      document.body.appendChild(div);\n",
              "\n",
              "      const buffers = [];\n",
              "      let downloaded = 0;\n",
              "\n",
              "      const channel = await google.colab.kernel.comms.open(id);\n",
              "      // Send a message to notify the kernel that we're ready.\n",
              "      channel.send({})\n",
              "\n",
              "      for await (const message of channel.messages) {\n",
              "        // Send a message to notify the kernel that we're ready.\n",
              "        channel.send({})\n",
              "        if (message.buffers) {\n",
              "          for (const buffer of message.buffers) {\n",
              "            buffers.push(buffer);\n",
              "            downloaded += buffer.byteLength;\n",
              "            progress.value = downloaded;\n",
              "          }\n",
              "        }\n",
              "      }\n",
              "      const blob = new Blob(buffers, {type: 'application/binary'});\n",
              "      const a = document.createElement('a');\n",
              "      a.href = window.URL.createObjectURL(blob);\n",
              "      a.download = filename;\n",
              "      div.appendChild(a);\n",
              "      a.click();\n",
              "      div.remove();\n",
              "    }\n",
              "  "
            ]
          },
          "metadata": {}
        },
        {
          "output_type": "display_data",
          "data": {
            "text/plain": [
              "<IPython.core.display.Javascript object>"
            ],
            "application/javascript": [
              "download(\"download_b05ad11a-8229-4c8c-9038-2f01d3e8028d\", \"tortola_coord.csv\", 295401)"
            ]
          },
          "metadata": {}
        },
        {
          "output_type": "stream",
          "name": "stdout",
          "text": [
            "Downloaded tortola_coord.csv\n"
          ]
        },
        {
          "output_type": "display_data",
          "data": {
            "text/plain": [
              "<IPython.core.display.Javascript object>"
            ],
            "application/javascript": [
              "\n",
              "    async function download(id, filename, size) {\n",
              "      if (!google.colab.kernel.accessAllowed) {\n",
              "        return;\n",
              "      }\n",
              "      const div = document.createElement('div');\n",
              "      const label = document.createElement('label');\n",
              "      label.textContent = `Downloading \"${filename}\": `;\n",
              "      div.appendChild(label);\n",
              "      const progress = document.createElement('progress');\n",
              "      progress.max = size;\n",
              "      div.appendChild(progress);\n",
              "      document.body.appendChild(div);\n",
              "\n",
              "      const buffers = [];\n",
              "      let downloaded = 0;\n",
              "\n",
              "      const channel = await google.colab.kernel.comms.open(id);\n",
              "      // Send a message to notify the kernel that we're ready.\n",
              "      channel.send({})\n",
              "\n",
              "      for await (const message of channel.messages) {\n",
              "        // Send a message to notify the kernel that we're ready.\n",
              "        channel.send({})\n",
              "        if (message.buffers) {\n",
              "          for (const buffer of message.buffers) {\n",
              "            buffers.push(buffer);\n",
              "            downloaded += buffer.byteLength;\n",
              "            progress.value = downloaded;\n",
              "          }\n",
              "        }\n",
              "      }\n",
              "      const blob = new Blob(buffers, {type: 'application/binary'});\n",
              "      const a = document.createElement('a');\n",
              "      a.href = window.URL.createObjectURL(blob);\n",
              "      a.download = filename;\n",
              "      div.appendChild(a);\n",
              "      a.click();\n",
              "      div.remove();\n",
              "    }\n",
              "  "
            ]
          },
          "metadata": {}
        },
        {
          "output_type": "display_data",
          "data": {
            "text/plain": [
              "<IPython.core.display.Javascript object>"
            ],
            "application/javascript": [
              "download(\"download_0228db77-9c4a-428d-b014-13ba9adca9be\", \"grulla_coord.csv\", 297835)"
            ]
          },
          "metadata": {}
        },
        {
          "output_type": "stream",
          "name": "stdout",
          "text": [
            "Downloaded grulla_coord.csv\n"
          ]
        }
      ]
    }
  ]
}